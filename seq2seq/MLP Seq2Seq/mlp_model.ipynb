{
 "cells": [
  {
   "cell_type": "markdown",
   "metadata": {},
   "source": [
    "### Sequence to Sequence model using MLP network and keras"
   ]
  },
  {
   "cell_type": "code",
   "execution_count": 26,
   "metadata": {},
   "outputs": [],
   "source": [
    "from random import randint, seed\n",
    "from tensorflow.keras import models\n",
    "import numpy as np\n",
    "import tensorflow.keras.backend as K\n",
    "from tensorflow.keras.models import Sequential, Model\n",
    "from tensorflow.keras.layers import LSTM, Bidirectional\n",
    "from tensorflow.keras.layers import Dense, Flatten\n",
    "from tensorflow.keras import Input\n",
    "from tensorflow.keras.layers import TimeDistributed\n",
    "from tensorflow.keras.layers import RepeatVector\n",
    "from tensorflow.keras.callbacks import EarlyStopping\n",
    "from tensorflow.keras.utils import plot_model\n",
    "import matplotlib.pyplot as plt\n",
    "from tensorflow.keras.optimizers import Adam"
   ]
  },
  {
   "cell_type": "markdown",
   "metadata": {},
   "source": [
    "#### Creating a dataset\n",
    "eg:\n",
    "- input = [3,2,3,0]\n",
    "- output = [0,3,2,3]\n",
    "\n",
    "after one-hot-encoding, input will be:\n",
    "- [[0,0,0,1,0,0,0,0,0,0],\n",
    "[0,0,1,0,0,0,0,0,0,0],\n",
    "[0,0,0,1,0,0,0,0,0,0],\n",
    "[0,0,0,0,0,0,0,0,0,0]\n",
    "]"
   ]
  },
  {
   "cell_type": "markdown",
   "metadata": {},
   "source": [
    "#### Explaining the variables"
   ]
  },
  {
   "cell_type": "markdown",
   "metadata": {},
   "source": [
    "n_unique = 10\n",
    "- explanation:\n",
    "there are 9 possible integers so after one hot encoding the \n",
    "max value: [0,0,0,0,0,0,0,0,0,1] = 9"
   ]
  },
  {
   "cell_type": "markdown",
   "metadata": {},
   "source": [
    "A sequence is the each individual input going into the mode\n",
    "- eg: [3,2,3,0]\n"
   ]
  },
  {
   "cell_type": "code",
   "execution_count": 48,
   "metadata": {},
   "outputs": [],
   "source": [
    "# generate a sequence of random integers\n",
    "def generate_sequence(length, n_unique):\n",
    "\t\n",
    "\treturn [randint(0, n_unique-1) for _ in range(length)]"
   ]
  },
  {
   "cell_type": "code",
   "execution_count": 49,
   "metadata": {},
   "outputs": [],
   "source": [
    "# one hot encode sequence\n",
    "def one_hot_encode(sequence, n_unique):\n",
    "\tencoding = list()\n",
    "\tfor value in sequence:\n",
    "\t\tvector = [0 for _ in range(n_unique)]\n",
    "\t\tvector[value] = 1\n",
    "\t\tencoding.append(vector)\n",
    "\treturn np.array(encoding)"
   ]
  },
  {
   "cell_type": "code",
   "execution_count": 50,
   "metadata": {},
   "outputs": [],
   "source": [
    "# decode a one hot encoded string\n",
    "# For example:\n",
    "# Input: [[0, 1, 0], [1, 0, 0], [0, 0, 1]]\n",
    "# Output: [1, 0, 2]\n",
    "def one_hot_decode(encoded_seq):\n",
    "\treturn [np.argmax(vector) for vector in encoded_seq]"
   ]
  },
  {
   "cell_type": "code",
   "execution_count": 51,
   "metadata": {},
   "outputs": [],
   "source": [
    "# prepare data for the LSTM\n",
    "def get_reversed_pairs(time_steps,vocabulary_size,verbose= False):\n",
    "\t# generate random sequence\n",
    "\tsequence_in = generate_sequence(time_steps, vocabulary_size)\n",
    "\tsequence_out = sequence_in[::-1]\n",
    "\t\n",
    "\t# one hot encode\n",
    "\tX = one_hot_encode(sequence_in, vocabulary_size)\n",
    "\ty = one_hot_encode(sequence_out, vocabulary_size)\n",
    "\t# reshape as 3D\n",
    "\tX = X.reshape((1, X.shape[0], X.shape[1]))\n",
    "\ty = y.reshape((1, y.shape[0], y.shape[1]))\n",
    "\n",
    "\tif(verbose):\n",
    "\t\tprint('\\nSample X and y')\n",
    "\t\tprint('\\nIn raw format:')\n",
    "\t\tprint('X[0]=%s, y[0]=%s' % (one_hot_decode(X[0]), one_hot_decode(y[0])))\n",
    "\t\tprint('\\nIn one_hot_encoded format:')\n",
    "\t\tprint('X[0]=%s' % (X[0]))\n",
    "\t\tprint('y[0]=%s' % (y[0]))\n",
    "\treturn X,y"
   ]
  },
  {
   "cell_type": "code",
   "execution_count": 52,
   "metadata": {},
   "outputs": [],
   "source": [
    "def create_dataset(train_size, test_size, time_steps,vocabulary_size, verbose= False):\n",
    "\tpairs = [get_reversed_pairs(time_steps,vocabulary_size) for _ in range(train_size)]\n",
    "\tpairs=np.array(pairs).squeeze()\n",
    "\tX_train = pairs[:,0]\n",
    "\ty_train = pairs[:,1]\n",
    "\tpairs = [get_reversed_pairs(time_steps,vocabulary_size) for _ in range(test_size)]\n",
    "\tpairs=np.array(pairs).squeeze()\n",
    "\tX_test = pairs[:,0]\n",
    "\ty_test = pairs[:,1]\t\n",
    "\n",
    "\tif(verbose):\n",
    "\t\tprint('\\nGenerated sequence datasets as follows')\n",
    "\t\tprint('X_train.shape: ', X_train.shape,'y_train.shape: ', y_train.shape)\n",
    "\t\tprint('X_test.shape: ', X_test.shape,'y_test.shape: ', y_test.shape)\n",
    "\t\n",
    "\treturn X_train, y_train, X_test, \ty_test"
   ]
  },
  {
   "cell_type": "markdown",
   "metadata": {},
   "source": [
    "#### Function to train and test the mode (Early stopping monitor - val_loss)"
   ]
  },
  {
   "cell_type": "code",
   "execution_count": 53,
   "metadata": {},
   "outputs": [],
   "source": [
    "#@title Function to Train & Test  given model (Early Stopping monitor 'val_loss')\n",
    "def train_test(model, X_train, y_train , X_test, \t\n",
    "               y_test, epochs=500, verbose=0):\n",
    "\t# patient early stopping\n",
    "\t#es = EarlyStopping(monitor='val_accuracy', mode='max', min_delta=1, patience=20)\n",
    "\tes = EarlyStopping(monitor='val_loss', \n",
    "\t                   mode='min', verbose=1, patience=20)\n",
    "\t# train model\n",
    "\tprint('training for ',epochs,' epochs begins with validation_split= 0.1 & EarlyStopping(monitor= val_loss, patience=20)....')\n",
    "\thistory=model.fit(X_train, y_train, validation_split= 0.1, epochs=epochs,  verbose=verbose, callbacks=[es])\n",
    "\tprint(epochs,' epoch training finished...')\n",
    "\n",
    "\t# report training\n",
    "\t# list all data in history\n",
    "\t#print(history.history.keys())\n",
    "\t# evaluate the model\n",
    "\t_, train_acc = model.evaluate(X_train, y_train, verbose=0)\n",
    "\t_, test_acc = model.evaluate(X_test, \ty_test, verbose=0)\n",
    "\tprint('\\nPREDICTION ACCURACY (%):')\n",
    "\tprint('Train: %.3f, Test: %.3f' % (train_acc*100, test_acc*100))\n",
    "\t\n",
    "\t# summarize history for accuracy\n",
    "\tplt.plot(history.history['accuracy'])\n",
    "\tplt.plot(history.history['val_accuracy'])\n",
    "\tplt.title(model.name+' accuracy')\n",
    "\tplt.ylabel('accuracy')\n",
    "\tplt.xlabel('epoch')\n",
    "\tplt.legend(['train', 'val'], loc='upper left')\n",
    "\tplt.show()\n",
    "\t# summarize history for loss\n",
    "\tplt.plot(history.history['loss'])\n",
    "\tplt.plot(history.history['val_loss'])\n",
    "\tplt.title(model.name+' loss')\n",
    "\tplt.ylabel('loss')\n",
    "\tplt.xlabel('epoch')\n",
    "\tplt.legend(['train', 'val'], loc='upper left')\n",
    "\tplt.show()\n",
    "\n",
    "\t# spot check some examples\n",
    "\tprint('some examples...')\n",
    "\tfor _ in range(10):\n",
    "\t\tX,y = get_reversed_pairs(n_timesteps_in, n_features)\n",
    "\t\tyhat = model.predict(X, verbose=0)\n",
    "\t\tprint('Input',one_hot_decode(X[0]),\n",
    "\t\t\t\t\t'Expected:', one_hot_decode(y[0]), \n",
    "\t\t\t\t\t\t'Predicted', one_hot_decode(yhat[0]),\n",
    "\t\t\t\t\t\t\t'', np.array_equal(one_hot_decode(y[0]), one_hot_decode(yhat[0])) )\n",
    "\t\n"
   ]
  },
  {
   "cell_type": "code",
   "execution_count": 56,
   "metadata": {},
   "outputs": [
    {
     "name": "stdout",
     "output_type": "stream",
     "text": [
      "\n",
      "Sample X and y\n",
      "\n",
      "In raw format:\n",
      "X[0]=[6, 3, 0, 3], y[0]=[3, 0, 3, 6]\n",
      "\n",
      "In one_hot_encoded format:\n",
      "X[0]=[[0 0 0 0 0 0 1 0 0 0]\n",
      " [0 0 0 1 0 0 0 0 0 0]\n",
      " [1 0 0 0 0 0 0 0 0 0]\n",
      " [0 0 0 1 0 0 0 0 0 0]]\n",
      "y[0]=[[0 0 0 1 0 0 0 0 0 0]\n",
      " [1 0 0 0 0 0 0 0 0 0]\n",
      " [0 0 0 1 0 0 0 0 0 0]\n",
      " [0 0 0 0 0 0 1 0 0 0]]\n",
      "\n",
      "Generated sequence datasets as follows\n",
      "X_train.shape:  (20000, 4, 10) y_train.shape:  (20000, 4, 10)\n",
      "X_test.shape:  (200, 4, 10) y_test.shape:  (200, 4, 10)\n"
     ]
    }
   ],
   "source": [
    "#@title Configure problem\n",
    "\n",
    "n_timesteps_in =   4#@param {type:\"integer\"}\n",
    "#each input sample has 4 values\n",
    "\n",
    "n_features = 10   #@param {type:\"integer\"}\n",
    "#each value is one_hot_encoded with 10 0/1\n",
    "#n_timesteps_out = 2  #@param {type:\"integer\"}\n",
    "#each output sample has 2 values padded with 0\n",
    "\n",
    "# generate random sequence\n",
    "X,y = get_reversed_pairs(n_timesteps_in,  n_features, verbose=True)\n",
    "# generate datasets\n",
    "train_size= 20000 #@param {type:\"integer\"}\n",
    "test_size = 200  #@param {type:\"integer\"}\n",
    "\n",
    "X_train, y_train , X_test, \ty_test=create_dataset(train_size, test_size, n_timesteps_in,n_features , verbose=True)\n",
    "\n"
   ]
  },
  {
   "cell_type": "markdown",
   "metadata": {},
   "source": [
    "### Developing an MLP model for fixed size and same-data type input and output sequences"
   ]
  },
  {
   "cell_type": "code",
   "execution_count": 62,
   "metadata": {},
   "outputs": [
    {
     "name": "stdout",
     "output_type": "stream",
     "text": [
      "Model: \"model_Multi_Layer_Perceptron\"\n",
      "_________________________________________________________________\n",
      "Layer (type)                 Output Shape              Param #   \n",
      "=================================================================\n",
      "dense_44 (Dense)             (None, 4, 256)            2816      \n",
      "_________________________________________________________________\n",
      "dense_45 (Dense)             (None, 4, 128)            32896     \n",
      "_________________________________________________________________\n",
      "dense_46 (Dense)             (None, 4, 64)             8256      \n",
      "_________________________________________________________________\n",
      "dense_47 (Dense)             (None, 4, 10)             650       \n",
      "=================================================================\n",
      "Total params: 44,618\n",
      "Trainable params: 44,618\n",
      "Non-trainable params: 0\n",
      "_________________________________________________________________\n"
     ]
    }
   ],
   "source": [
    "#@title Multi-Layer Perceptron network\n",
    "numberOfPerceptrons=64\n",
    "model_Multi_Layer_Perceptron = Sequential(name='model_Multi_Layer_Perceptron')\n",
    "model_Multi_Layer_Perceptron.add(Input(shape=(n_timesteps_in, n_features)))\n",
    "model_Multi_Layer_Perceptron.add(Dense(4*numberOfPerceptrons, activation='relu'))\n",
    "model_Multi_Layer_Perceptron.add(Dense(2*numberOfPerceptrons, activation='relu'))\n",
    "model_Multi_Layer_Perceptron.add(Dense(numberOfPerceptrons, activation='relu'))\n",
    "model_Multi_Layer_Perceptron.add(Dense(n_features, activation='softmax'))\n",
    "\n",
    "model_Multi_Layer_Perceptron.compile(loss='categorical_crossentropy',\n",
    "                                     optimizer=Adam(learning_rate=0.001), \n",
    "                                    metrics=['accuracy'])\n",
    "model_Multi_Layer_Perceptron.summary()\n",
    "#plot_model(model_Multi_Layer_Perceptron,show_shapes=True)"
   ]
  },
  {
   "cell_type": "markdown",
   "metadata": {},
   "source": [
    "### Training and testing"
   ]
  },
  {
   "cell_type": "code",
   "execution_count": 66,
   "metadata": {},
   "outputs": [
    {
     "data": {
      "text/plain": [
       "[5, 8, 3, 4]"
      ]
     },
     "execution_count": 66,
     "metadata": {},
     "output_type": "execute_result"
    }
   ],
   "source": [
    "one_hot_decode(X_train[0])"
   ]
  },
  {
   "cell_type": "code",
   "execution_count": 67,
   "metadata": {},
   "outputs": [
    {
     "data": {
      "text/plain": [
       "[4, 3, 8, 5]"
      ]
     },
     "execution_count": 67,
     "metadata": {},
     "output_type": "execute_result"
    }
   ],
   "source": [
    "one_hot_decode(y_train[0])"
   ]
  },
  {
   "cell_type": "code",
   "execution_count": 63,
   "metadata": {},
   "outputs": [
    {
     "name": "stdout",
     "output_type": "stream",
     "text": [
      "training for  500  epochs begins with validation_split= 0.1 & EarlyStopping(monitor= val_loss, patience=20)....\n",
      "Epoch 1/500\n",
      "563/563 - 2s - loss: nan - accuracy: 0.0997 - val_loss: nan - val_accuracy: 0.0972\n",
      "Epoch 2/500\n",
      "563/563 - 1s - loss: nan - accuracy: 0.0997 - val_loss: nan - val_accuracy: 0.0972\n",
      "Epoch 3/500\n",
      "563/563 - 1s - loss: nan - accuracy: 0.0997 - val_loss: nan - val_accuracy: 0.0972\n",
      "Epoch 4/500\n",
      "563/563 - 1s - loss: nan - accuracy: 0.0997 - val_loss: nan - val_accuracy: 0.0972\n",
      "Epoch 5/500\n",
      "563/563 - 1s - loss: nan - accuracy: 0.0997 - val_loss: nan - val_accuracy: 0.0972\n",
      "Epoch 6/500\n",
      "563/563 - 1s - loss: nan - accuracy: 0.0997 - val_loss: nan - val_accuracy: 0.0972\n",
      "Epoch 7/500\n",
      "563/563 - 1s - loss: nan - accuracy: 0.0997 - val_loss: nan - val_accuracy: 0.0972\n",
      "Epoch 8/500\n",
      "563/563 - 1s - loss: nan - accuracy: 0.0997 - val_loss: nan - val_accuracy: 0.0972\n",
      "Epoch 9/500\n",
      "563/563 - 1s - loss: nan - accuracy: 0.0997 - val_loss: nan - val_accuracy: 0.0972\n",
      "Epoch 10/500\n",
      "563/563 - 1s - loss: nan - accuracy: 0.0997 - val_loss: nan - val_accuracy: 0.0972\n",
      "Epoch 11/500\n",
      "563/563 - 1s - loss: nan - accuracy: 0.0997 - val_loss: nan - val_accuracy: 0.0972\n",
      "Epoch 12/500\n",
      "563/563 - 1s - loss: nan - accuracy: 0.0997 - val_loss: nan - val_accuracy: 0.0972\n",
      "Epoch 13/500\n",
      "563/563 - 1s - loss: nan - accuracy: 0.0997 - val_loss: nan - val_accuracy: 0.0972\n",
      "Epoch 14/500\n",
      "563/563 - 1s - loss: nan - accuracy: 0.0997 - val_loss: nan - val_accuracy: 0.0972\n",
      "Epoch 15/500\n",
      "563/563 - 1s - loss: nan - accuracy: 0.0997 - val_loss: nan - val_accuracy: 0.0972\n",
      "Epoch 16/500\n",
      "563/563 - 1s - loss: nan - accuracy: 0.0997 - val_loss: nan - val_accuracy: 0.0972\n",
      "Epoch 17/500\n",
      "563/563 - 1s - loss: nan - accuracy: 0.0997 - val_loss: nan - val_accuracy: 0.0972\n",
      "Epoch 18/500\n",
      "563/563 - 1s - loss: nan - accuracy: 0.0997 - val_loss: nan - val_accuracy: 0.0972\n",
      "Epoch 19/500\n",
      "563/563 - 1s - loss: nan - accuracy: 0.0997 - val_loss: nan - val_accuracy: 0.0972\n",
      "Epoch 20/500\n",
      "563/563 - 1s - loss: nan - accuracy: 0.0997 - val_loss: nan - val_accuracy: 0.0972\n",
      "Epoch 00020: early stopping\n",
      "500  epoch training finished...\n",
      "\n",
      "PREDICTION ACCURACY (%):\n",
      "Train: 9.945, Test: 10.375\n"
     ]
    },
    {
     "data": {
      "image/png": "[encoded data removed]",
      "text/plain": [
       "<Figure size 640x480 with 1 Axes>"
      ]
     },
     "metadata": {},
     "output_type": "display_data"
    },
    {
     "data": {
      "image/png": "[encoded data removed]",
      "text/plain": [
       "<Figure size 640x480 with 1 Axes>"
      ]
     },
     "metadata": {},
     "output_type": "display_data"
    },
    {
     "name": "stdout",
     "output_type": "stream",
     "text": [
      "some examples...\n",
      "Input [6, 0, 3, 9] Expected: [9, 3, 0, 6] Predicted [0, 0, 0, 0]  False\n",
      "Input [3, 9, 7, 9] Expected: [9, 7, 9, 3] Predicted [0, 0, 0, 0]  False\n",
      "Input [3, 7, 8, 9] Expected: [9, 8, 7, 3] Predicted [0, 0, 0, 0]  False\n",
      "Input [0, 9, 5, 3] Expected: [3, 5, 9, 0] Predicted [0, 0, 0, 0]  False\n",
      "Input [5, 6, 0, 0] Expected: [0, 0, 6, 5] Predicted [0, 0, 0, 0]  False\n",
      "Input [7, 2, 6, 6] Expected: [6, 6, 2, 7] Predicted [0, 0, 0, 0]  False\n",
      "Input [7, 5, 7, 2] Expected: [2, 7, 5, 7] Predicted [0, 0, 0, 0]  False\n",
      "Input [2, 4, 9, 6] Expected: [6, 9, 4, 2] Predicted [0, 0, 0, 0]  False\n",
      "Input [3, 3, 9, 9] Expected: [9, 9, 3, 3] Predicted [0, 0, 0, 0]  False\n",
      "Input [5, 1, 1, 2] Expected: [2, 1, 1, 5] Predicted [0, 0, 0, 0]  False\n"
     ]
    }
   ],
   "source": [
    "train_test(model_Multi_Layer_Perceptron, X_train, y_train , X_test, y_test, verbose=2)"
   ]
  },
  {
   "cell_type": "markdown",
   "metadata": {},
   "source": [
    "#### We observed that the model does not perform well as the accuracy and loss is only around 10%"
   ]
  }
 ],
 "metadata": {
  "kernelspec": {
   "display_name": "facenv",
   "language": "python",
   "name": "python3"
  },
  "language_info": {
   "codemirror_mode": {
    "name": "ipython",
    "version": 3
   },
   "file_extension": ".py",
   "mimetype": "text/x-python",
   "name": "python",
   "nbconvert_exporter": "python",
   "pygments_lexer": "ipython3",
   "version": "3.8.18"
  }
 },
 "nbformat": 4,
 "nbformat_minor": 2
}
